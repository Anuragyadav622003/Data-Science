{
 "cells": [
  {
   "cell_type": "markdown",
   "id": "c1c9b6e3",
   "metadata": {},
   "source": [
    "## Numpy Array Operations"
   ]
  },
  {
   "cell_type": "code",
   "execution_count": 8,
   "id": "6e2e444b",
   "metadata": {},
   "outputs": [],
   "source": [
    "import numpy as np"
   ]
  },
  {
   "cell_type": "code",
   "execution_count": 9,
   "id": "3e85d35f",
   "metadata": {},
   "outputs": [
    {
     "name": "stdout",
     "output_type": "stream",
     "text": [
      "Basic Slicing [3 4 5 6 7]\n",
      "With Steps [2 4 6 8]\n",
      "Negative indexing 8\n"
     ]
    }
   ],
   "source": [
    "arr = np.array([1,2,3,4,5,6,7,8,9,10])\n",
    "print('Basic Slicing',arr[2:7])\n",
    "print('With Steps',arr[1:8:2])\n",
    "print('Negative indexing',arr[-3])\n"
   ]
  },
  {
   "cell_type": "code",
   "execution_count": 10,
   "id": "8b9b5429",
   "metadata": {},
   "outputs": [
    {
     "name": "stdout",
     "output_type": "stream",
     "text": [
      "Specific element 6\n",
      "entire row [4 5 6]\n",
      "entire column [2 5 8]\n"
     ]
    }
   ],
   "source": [
    "arr_2d = np.array([[1,2,3],[4,5,6],[7,8,9]])\n",
    "print('Specific element',arr_2d[1,2])\n",
    "print('entire row',arr_2d[1])\n",
    "print('entire column',arr_2d[:,1])\n"
   ]
  },
  {
   "cell_type": "markdown",
   "id": "ce78cb9a",
   "metadata": {},
   "source": [
    "## Sorting\n"
   ]
  },
  {
   "cell_type": "code",
   "execution_count": 11,
   "id": "c16a7d25",
   "metadata": {},
   "outputs": [
    {
     "name": "stdout",
     "output_type": "stream",
     "text": [
      "Sorted Array [1 3 4 6 9]\n",
      "Sorted 2d array by column\n",
      " [[1 3]\n",
      " [2 4]\n",
      " [8 5]]\n",
      "Sorted 2d array by row\n",
      " [[2 3]\n",
      " [1 5]\n",
      " [4 8]]\n"
     ]
    }
   ],
   "source": [
    "unsorted = np.array([6,3,9,1,4])\n",
    "print('Sorted Array',np.sort(unsorted))\n",
    "\n",
    "arr_2d_unsorted = np.array([[2,3],[1,5],[8,4]])\n",
    "print('Sorted 2d array by column\\n',np.sort(arr_2d_unsorted,axis=0))\n",
    "print('Sorted 2d array by row\\n',np.sort(arr_2d_unsorted,axis=1))"
   ]
  },
  {
   "cell_type": "markdown",
   "id": "276cbf96",
   "metadata": {},
   "source": [
    "### Filter"
   ]
  },
  {
   "cell_type": "code",
   "execution_count": 12,
   "id": "28a6fb4b",
   "metadata": {},
   "outputs": [
    {
     "name": "stdout",
     "output_type": "stream",
     "text": [
      "even numbers [ 0  2  4  6  8 10]\n"
     ]
    }
   ],
   "source": [
    "numbers = np.arange(11)\n",
    "even_number = numbers[numbers%2==0]\n",
    "print('even numbers',even_number)\n"
   ]
  },
  {
   "cell_type": "markdown",
   "id": "8ac260cb",
   "metadata": {},
   "source": [
    "#### filter with mask"
   ]
  },
  {
   "cell_type": "code",
   "execution_count": 13,
   "id": "82a730f1",
   "metadata": {},
   "outputs": [
    {
     "name": "stdout",
     "output_type": "stream",
     "text": [
      "Numbers greater than 5 [ 6  7  8  9 10]\n"
     ]
    }
   ],
   "source": [
    "mask = numbers>5\n",
    "print('Numbers greater than 5',numbers[mask])"
   ]
  },
  {
   "cell_type": "markdown",
   "id": "746fea07",
   "metadata": {},
   "source": [
    "## Fancy indexing vs np.where()\n"
   ]
  },
  {
   "cell_type": "code",
   "execution_count": 14,
   "id": "848444c2",
   "metadata": {},
   "outputs": [
    {
     "name": "stdout",
     "output_type": "stream",
     "text": [
      "[0 4 6]\n"
     ]
    }
   ],
   "source": [
    "indices = [0,2,3]\n",
    "print(even_number[indices])\n"
   ]
  },
  {
   "cell_type": "markdown",
   "id": "5efb8392",
   "metadata": {},
   "source": [
    "## np.where()"
   ]
  },
  {
   "cell_type": "markdown",
   "id": "5774010c",
   "metadata": {},
   "source": [
    "### syntax \n",
    "numpy.where(condition, [x, y])\n",
    "\n",
    "If only condition is given → returns the indices where condition is True.\n",
    "\n",
    "If x and y are also given → returns values from x where condition is True, otherwise from y.\n"
   ]
  },
  {
   "cell_type": "code",
   "execution_count": 15,
   "id": "529f9257",
   "metadata": {},
   "outputs": [
    {
     "name": "stdout",
     "output_type": "stream",
     "text": [
      "indices where condition is true (array([2, 3, 4]),)\n",
      "value on where clouse indices [30 40 50]\n",
      "[-1 -1 30 40 50]\n"
     ]
    }
   ],
   "source": [
    "ar = np.array([10,20,30,40,50])\n",
    "result = np.where(ar>23)\n",
    "\n",
    "print('indices where condition is true',result)\n",
    "print('value on where clouse indices',ar[result])\n",
    "\n",
    "# Replace values: if > 25 keep same, else set -1\n",
    "result = np.where((ar > 25 ) & (ar%2==0), ar, -1)\n",
    "print(result)"
   ]
  },
  {
   "cell_type": "markdown",
   "id": "0c5d4b09",
   "metadata": {},
   "source": [
    "### Adding and removing data"
   ]
  },
  {
   "cell_type": "markdown",
   "id": "6dcfbf06",
   "metadata": {},
   "source": [
    "Functions like np.append, np.insert, np.delete → return new arrays (they don’t modify in-place).\n",
    "\n",
    "For efficiency, if you need frequent insertions/removals, use Python lists or Pandas instead."
   ]
  },
  {
   "cell_type": "code",
   "execution_count": 16,
   "id": "a771d142",
   "metadata": {},
   "outputs": [
    {
     "name": "stdout",
     "output_type": "stream",
     "text": [
      "[ 20  40  60  80 100]\n",
      "[10 15 20 30]\n",
      "Array after adding elements: [10 20 30 40 50 60 70]\n",
      "[1 2 3 4 5 6]\n",
      "deted element at index 2 [1 2]\n",
      "Array after removing elements at indices 1 and 3: [10 30 50]\n",
      "[10 20 40 50]\n",
      "array a \n",
      " [[1 2 3]\n",
      " [4 5 6]\n",
      " [7 8 9]]\n",
      "delete 1'st row\n",
      " [[1 2 3]\n",
      " [7 8 9]]\n",
      "delete 0rth cloumn\n",
      " [[2 3]\n",
      " [5 6]\n",
      " [8 9]]\n",
      "delete rows 0 and 2\n",
      " [[4 5 6]]\n",
      "delete columns 1 and 2\n",
      " [[1]\n",
      " [4]\n",
      " [7]]\n"
     ]
    }
   ],
   "source": [
    "# not use like adding list because it is vector or matrix\n",
    "print(ar+ar)\n",
    "\n",
    "arr = np.array([10, 20, 30])\n",
    "new_arr = np.insert(arr, 1, 15)   # insert 15 at index 1\n",
    "\n",
    "print(new_arr)   # [10 15 20 30]\n",
    "\n",
    "\n",
    "# Adding elements\n",
    "added = np.append(ar, [60, 70])\n",
    "print('Array after adding elements:', added)\n",
    "\n",
    "# concatinate \n",
    "a = np.array([1, 2, 3])\n",
    "b = np.array([4, 5, 6])\n",
    "c = np.concatenate((a, b))\n",
    "\n",
    "print(c)   # [1 2 3 4 5 6]\n",
    "\n",
    "# removing element at index 2\n",
    "new_a = np.delete(a,2)\n",
    "print('deted element at index 2',new_a)\n",
    "\n",
    "# Removing elements (e.g., remove element at index 1 and 3)\n",
    "removed = np.delete(ar, [1, 3])\n",
    "print('Array after removing elements at indices 1 and 3:', removed)\n",
    "\n",
    "arr = np.array([10, 20, 30, 40, 50])\n",
    "new_arr = arr[arr != 30]   # remove all 30s\n",
    "\n",
    "print(new_arr)   # [10 20 40 50]\n",
    "\n",
    "# Delete a row\n",
    "\n",
    "a = np.array([[1, 2, 3],[4, 5, 6],[7, 8, 9]])\n",
    "print('array a \\n',a)\n",
    "\n",
    "new_a = np.delete(a, 1, axis=0)   # delete row index 1\n",
    "\n",
    "print('delete 1\\'st row\\n',new_a)\n",
    "\n",
    "\n",
    "# Delete a column\n",
    "\n",
    "new_a = np.delete(a, 0, axis=1)   # delete column index 0\n",
    "\n",
    "print('delete 0rth cloumn\\n',new_a)\n",
    "\n",
    "# Delete multiple rows or columns\n",
    "# delete rows 0 and 2\n",
    "rows_deleted = np.delete(a, [0, 2], axis=0)\n",
    "print('delete rows 0 and 2\\n',rows_deleted)\n",
    "# [[4 5 6]]\n",
    "\n",
    "# delete columns 1 and 2\n",
    "cols_deleted = np.delete(a, [1, 2], axis=1)\n",
    "print('delete columns 1 and 2\\n',cols_deleted)\n",
    "# [[1]\n",
    "#  [4]\n",
    "#  [7]]\n",
    "\n"
   ]
  },
  {
   "cell_type": "markdown",
   "id": "6263c6e6",
   "metadata": {},
   "source": [
    "## array compatibility"
   ]
  },
  {
   "cell_type": "code",
   "execution_count": 17,
   "id": "03377e5b",
   "metadata": {},
   "outputs": [
    {
     "name": "stdout",
     "output_type": "stream",
     "text": [
      "original\n",
      " [[1 2]\n",
      " [2 3]]\n",
      "with new row\n",
      " [[1 2]\n",
      " [2 3]\n",
      " [5 6]]\n",
      "with new col\n",
      " [[1 2 3]\n",
      " [2 3 4]\n",
      " [5 6 5]]\n"
     ]
    }
   ],
   "source": [
    "original = np.array([[1,2],[2,3]])\n",
    "new_row = np.array([[5,6]])\n",
    "with_new_row = np.vstack((original,new_row))\n",
    "print('original\\n',original)\n",
    "print('with new row\\n',with_new_row)\n",
    "\n",
    "new_col = np.array([[3],[4],[5]])\n",
    "with_new_col = np.hstack((with_new_row,new_col))\n",
    "print('with new col\\n',with_new_col)"
   ]
  },
  {
   "cell_type": "code",
   "execution_count": 18,
   "id": "228df218",
   "metadata": {},
   "outputs": [
    {
     "ename": "TypeError",
     "evalue": "array() missing required argument 'object' (pos 0)",
     "output_type": "error",
     "traceback": [
      "\u001b[31m---------------------------------------------------------------------------\u001b[39m",
      "\u001b[31mTypeError\u001b[39m                                 Traceback (most recent call last)",
      "\u001b[36mCell\u001b[39m\u001b[36m \u001b[39m\u001b[32mIn[18]\u001b[39m\u001b[32m, line 1\u001b[39m\n\u001b[32m----> \u001b[39m\u001b[32m1\u001b[39m arr = \u001b[43mnp\u001b[49m\u001b[43m.\u001b[49m\u001b[43marray\u001b[49m\u001b[43m(\u001b[49m\u001b[43m)\u001b[49m\n",
      "\u001b[31mTypeError\u001b[39m: array() missing required argument 'object' (pos 0)"
     ]
    }
   ],
   "source": [
    "arr = np.array()"
   ]
  },
  {
   "cell_type": "markdown",
   "id": "5d237141",
   "metadata": {},
   "source": [
    "### 1. Elementwise Operation \n",
    "NumPy applies operations element by element, but shapes must be compatible.\n"
   ]
  },
  {
   "cell_type": "code",
   "execution_count": 4,
   "id": "ec1bd13e",
   "metadata": {},
   "outputs": [
    {
     "name": "stdout",
     "output_type": "stream",
     "text": [
      "[11 22 33]\n",
      "[10 40 90]\n"
     ]
    }
   ],
   "source": [
    "x = np.array([1, 2, 3])\n",
    "y = np.array([10, 20, 30])\n",
    "\n",
    "print(x + y)  \n",
    "print(x * y)  \n"
   ]
  },
  {
   "cell_type": "markdown",
   "id": "89a8c99a",
   "metadata": {},
   "source": [
    "### 2. Broadcasting Rules\n",
    "\n",
    "Broadcasting is NumPy’s way of handling arrays with different shapes.\n",
    "\n",
    "👉 Rule 1: If arrays have different dimensions, pad the smaller shape with 1s on the left.\n",
    "\n",
    "👉 Rule 2: Compare shapes dimension by dimension:\n",
    "\n",
    "If they are equal → ✅ compatible.\n",
    "\n",
    "If one is 1 → ✅ compatible (it gets stretched).\n",
    "\n",
    "Otherwise → ❌ not compatible."
   ]
  },
  {
   "cell_type": "markdown",
   "id": "6c1af095",
   "metadata": {},
   "source": [
    "compatible Shapes"
   ]
  },
  {
   "cell_type": "code",
   "execution_count": null,
   "id": "f9e2588a",
   "metadata": {},
   "outputs": [
    {
     "name": "stdout",
     "output_type": "stream",
     "text": [
      "[[11 12 13]\n",
      " [21 22 23]]\n"
     ]
    }
   ],
   "source": [
    "\n",
    "a = np.array([1, 2, 3])      # shape (3,)\n",
    "b = np.array([[10], [20]])   # shape (2,1)\n",
    "\n",
    "print(a + b)\n"
   ]
  },
  {
   "cell_type": "code",
   "execution_count": 3,
   "id": "a1d251d1",
   "metadata": {},
   "outputs": [
    {
     "ename": "ValueError",
     "evalue": "operands could not be broadcast together with shapes (3,) (2,) ",
     "output_type": "error",
     "traceback": [
      "\u001b[31m---------------------------------------------------------------------------\u001b[39m",
      "\u001b[31mValueError\u001b[39m                                Traceback (most recent call last)",
      "\u001b[36mCell\u001b[39m\u001b[36m \u001b[39m\u001b[32mIn[3]\u001b[39m\u001b[32m, line 4\u001b[39m\n\u001b[32m      1\u001b[39m a = np.array([\u001b[32m1\u001b[39m, \u001b[32m2\u001b[39m, \u001b[32m3\u001b[39m])     \u001b[38;5;66;03m# (3,)\u001b[39;00m\n\u001b[32m      2\u001b[39m b = np.array([\u001b[32m10\u001b[39m, \u001b[32m20\u001b[39m])      \u001b[38;5;66;03m# (2,)\u001b[39;00m\n\u001b[32m----> \u001b[39m\u001b[32m4\u001b[39m \u001b[38;5;28mprint\u001b[39m(\u001b[43ma\u001b[49m\u001b[43m \u001b[49m\u001b[43m+\u001b[49m\u001b[43m \u001b[49m\u001b[43mb\u001b[49m)   \u001b[38;5;66;03m# ❌ ValueError: operands could not be broadcast\u001b[39;00m\n",
      "\u001b[31mValueError\u001b[39m: operands could not be broadcast together with shapes (3,) (2,) "
     ]
    }
   ],
   "source": [
    "a = np.array([1, 2, 3])     # (3,)\n",
    "b = np.array([10, 20])      # (2,)\n",
    "\n",
    "print(a + b)   # ❌ ValueError: operands could not be broadcast\n"
   ]
  },
  {
   "cell_type": "markdown",
   "id": "f483c59d",
   "metadata": {},
   "source": [
    "Scalar Broadcasting"
   ]
  },
  {
   "cell_type": "code",
   "execution_count": 51,
   "id": "382b9616",
   "metadata": {},
   "outputs": [
    {
     "name": "stdout",
     "output_type": "stream",
     "text": [
      "[11 12 13]\n"
     ]
    }
   ],
   "source": [
    "a = np.array([1, 2, 3])\n",
    "print(a + 10)   # [11 12 13]\n"
   ]
  },
  {
   "cell_type": "markdown",
   "id": "3976e06c",
   "metadata": {},
   "source": [
    "Row & Column Vector Broadcasting"
   ]
  },
  {
   "cell_type": "code",
   "execution_count": 52,
   "id": "43911638",
   "metadata": {},
   "outputs": [
    {
     "name": "stdout",
     "output_type": "stream",
     "text": [
      "[[2 3 4]\n",
      " [3 4 5]\n",
      " [4 5 6]]\n"
     ]
    }
   ],
   "source": [
    "row = np.array([[1, 2, 3]])   # shape (1,3)\n",
    "col = np.array([[1], [2], [3]]) # shape (3,1)\n",
    "\n",
    "print(row + col)\n"
   ]
  },
  {
   "cell_type": "markdown",
   "id": "662003be",
   "metadata": {},
   "source": [
    "Higher Dimensions Broadcasting"
   ]
  },
  {
   "cell_type": "code",
   "execution_count": 56,
   "id": "dc2e0f27",
   "metadata": {},
   "outputs": [
    {
     "name": "stdout",
     "output_type": "stream",
     "text": [
      "shape\n",
      " (2, 3, 4)\n",
      "array\n",
      " [[[2. 2. 2. 2.]\n",
      "  [2. 2. 2. 2.]\n",
      "  [2. 2. 2. 2.]]\n",
      "\n",
      " [[2. 2. 2. 2.]\n",
      "  [2. 2. 2. 2.]\n",
      "  [2. 2. 2. 2.]]]\n"
     ]
    }
   ],
   "source": [
    "a = np.ones((2,3,1))   # shape (2,3,1)\n",
    "b = np.ones((1,1,4))   # shape (1,1,4)\n",
    "\n",
    "print(\"shape\\n\",(a + b).shape)   # (2,3,4)\n",
    "print('array\\n',(a + b)) \n"
   ]
  },
  {
   "cell_type": "markdown",
   "id": "bcab66ae",
   "metadata": {},
   "source": [
    "Reshape for Compatibility"
   ]
  },
  {
   "cell_type": "code",
   "execution_count": 57,
   "id": "e5e39305",
   "metadata": {},
   "outputs": [
    {
     "name": "stdout",
     "output_type": "stream",
     "text": [
      "[[11 22 33]\n",
      " [41 52 63]]\n"
     ]
    }
   ],
   "source": [
    "a = np.array([1,2,3])         # (3,)\n",
    "b = np.array([10,20,30,40,50,60])  # (6,)\n",
    "\n",
    "# reshape b into (2,3)\n",
    "b = b.reshape(2,3)\n",
    "print(a + b)\n"
   ]
  },
  {
   "cell_type": "markdown",
   "id": "87b74f74",
   "metadata": {},
   "source": [
    "### Practical Uses\n",
    "\n",
    "Adding bias terms in ML: (n_samples, n_features) + (1, n_features)\n",
    "\n",
    "Normalizing data: (n_samples, n_features) / (1, n_features)\n",
    "\n",
    "Expanding dimensions for compatibility:"
   ]
  },
  {
   "cell_type": "code",
   "execution_count": 1,
   "id": "6b5ecdcf",
   "metadata": {},
   "outputs": [
    {
     "ename": "NameError",
     "evalue": "name 'np' is not defined",
     "output_type": "error",
     "traceback": [
      "\u001b[31m---------------------------------------------------------------------------\u001b[39m",
      "\u001b[31mNameError\u001b[39m                                 Traceback (most recent call last)",
      "\u001b[36mCell\u001b[39m\u001b[36m \u001b[39m\u001b[32mIn[1]\u001b[39m\u001b[32m, line 1\u001b[39m\n\u001b[32m----> \u001b[39m\u001b[32m1\u001b[39m a = \u001b[43mnp\u001b[49m.array([\u001b[32m1\u001b[39m, \u001b[32m2\u001b[39m, \u001b[32m3\u001b[39m])       \u001b[38;5;66;03m# (3,)\u001b[39;00m\n\u001b[32m      2\u001b[39m \u001b[38;5;28mprint\u001b[39m(a[:, np.newaxis].shape) \u001b[38;5;66;03m# (3,1)\u001b[39;00m\n",
      "\u001b[31mNameError\u001b[39m: name 'np' is not defined"
     ]
    }
   ],
   "source": [
    "a = np.array([1, 2, 3])       # (3,)\n",
    "print(a[:, np.newaxis].shape) # (3,1)\n"
   ]
  }
 ],
 "metadata": {
  "kernelspec": {
   "display_name": "Python 3",
   "language": "python",
   "name": "python3"
  },
  "language_info": {
   "codemirror_mode": {
    "name": "ipython",
    "version": 3
   },
   "file_extension": ".py",
   "mimetype": "text/x-python",
   "name": "python",
   "nbconvert_exporter": "python",
   "pygments_lexer": "ipython3",
   "version": "3.13.7"
  }
 },
 "nbformat": 4,
 "nbformat_minor": 5
}
