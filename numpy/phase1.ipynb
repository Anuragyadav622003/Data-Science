{
 "cells": [
  {
   "cell_type": "markdown",
   "id": "242106f2",
   "metadata": {},
   "source": [
    "## Numpy array and basics\n",
    "learn about numpy "
   ]
  },
  {
   "cell_type": "markdown",
   "id": "bff68e8b",
   "metadata": {},
   "source": [
    "##Phase 1"
   ]
  },
  {
   "cell_type": "code",
   "execution_count": 1,
   "id": "51f340d1",
   "metadata": {},
   "outputs": [],
   "source": [
    "import numpy as np\n",
    "import time"
   ]
  },
  {
   "cell_type": "markdown",
   "id": "3f1a5b47",
   "metadata": {},
   "source": [
    "## creating array from list"
   ]
  },
  {
   "cell_type": "code",
   "execution_count": null,
   "id": "288ca7c4",
   "metadata": {},
   "outputs": [
    {
     "name": "stdout",
     "output_type": "stream",
     "text": [
      "1D array\n",
      " [1 2 3 4 5]\n",
      "2 D array\n",
      " [[1 2 3]\n",
      " [4 5 6]]\n",
      "int64\n",
      "specified number of elements, and spaced equally between the specified beginning and end values\n",
      " [1.  1.6 2.2 2.8 3.4 4. ]\n"
     ]
    }
   ],
   "source": [
    "arr_1d = np.array([1,2,3,4,5])\n",
    "print('1D array\\n',arr_1d)\n",
    "arr_2d = np.array([[1,2,3],[4,5,6]])\n",
    "print('2 D array\\n',arr_2d)\n",
    "print(arr_1d.dtype)"
   ]
  },
  {
   "cell_type": "markdown",
   "id": "abc8e25d",
   "metadata": {},
   "source": [
    "### Intrinsic NumPy array creation functions"
   ]
  },
  {
   "cell_type": "code",
   "execution_count": 20,
   "id": "2d38c6a2",
   "metadata": {},
   "outputs": [
    {
     "name": "stdout",
     "output_type": "stream",
     "text": [
      "1D array creation functions\n",
      "\n",
      "\n",
      " [0 1 2 3 4 5 6 7 8 9]\n",
      "\n",
      " [2. 3. 4. 5. 6. 7. 8. 9.]\n",
      "\n",
      " [2.  2.1 2.2 2.3 2.4 2.5 2.6 2.7 2.8 2.9]\n",
      "\n",
      "2D array creation functions\n",
      "\n",
      "\n",
      " [[1. 0. 0.]\n",
      " [0. 1. 0.]\n",
      " [0. 0. 1.]]\n",
      "\n",
      " [[1. 0. 0. 0. 0.]\n",
      " [0. 1. 0. 0. 0.]\n",
      " [0. 0. 1. 0. 0.]]\n",
      "\n",
      " [[1 0 0]\n",
      " [0 2 0]\n",
      " [0 0 3]]\n",
      "\n",
      " [[0 1 0 0]\n",
      " [0 0 2 0]\n",
      " [0 0 0 3]\n",
      " [0 0 0 0]]\n",
      "\n",
      " [1 4]\n"
     ]
    }
   ],
   "source": [
    "# 1D array creation functions\n",
    "print('1D array creation functions\\n')\n",
    "x= np.arange(10)\n",
    "print('\\n',x)\n",
    "\n",
    "x= np.arange(2, 10, dtype=float)\n",
    "print('\\n',x)\n",
    "\n",
    "x= np.arange(2, 3, 0.1)\n",
    "print('\\n',x)\n",
    "\n",
    "\n",
    "# 2D array creation functions\n",
    "print('\\n2D array creation functions\\n')\n",
    "\n",
    "x = np.eye(3)\n",
    "print('\\n',x)\n",
    "\n",
    "x = np.eye(3,5)\n",
    "print('\\n',x)\n",
    "\n",
    "\n",
    "\n",
    "# np.diag(v,k) square 2D matrix\n",
    "\n",
    "x = np.diag([1,2,3])\n",
    "print('\\n',x)\n",
    "\n",
    "# v can be 1D or 2D\n",
    "# k = 0 main diagonal\n",
    "# k>0 above main diagonal\n",
    "# k < 0 below main diagonal\n",
    "x = np.diag([1,2,3],1)\n",
    "print('\\n',x)\n",
    "\n",
    "# return 1D\n",
    "x =  np.array([[1,2],[2,4]])\n",
    "x = np.diag(x)\n",
    "print('\\n',x)\n"
   ]
  },
  {
   "cell_type": "markdown",
   "id": "2e85c75a",
   "metadata": {},
   "source": [
    "### List vs numpy array"
   ]
  },
  {
   "cell_type": "code",
   "execution_count": 11,
   "id": "f939da4a",
   "metadata": {},
   "outputs": [
    {
     "name": "stdout",
     "output_type": "stream",
     "text": [
      "Python list multiplication\n",
      " [1, 2, 3, 4, 1, 2, 3, 4]\n",
      "Python list multiplication\n",
      " [2 4 6 8]\n",
      "list operation time 0.07384514808654785\n",
      "Numpy operation time 0.0008568763732910156\n"
     ]
    }
   ],
   "source": [
    "py_list = [1,2,3,4]\n",
    "print('Python list multiplication\\n',py_list*2)\n",
    "\n",
    "np_array = np.array([1,2,3,4])\n",
    "print('Python list multiplication\\n',np_array*2)\n",
    "\n",
    "start = time.time()\n",
    "py_list = [1*2 for i in range(1000000)]\n",
    "print('list operation time',time.time()-start)\n",
    "\n",
    "start = time.time()\n",
    "np_array = np.arange(100000)*2\n",
    "print('Numpy operation time',time.time()-start)\n",
    "\n"
   ]
  },
  {
   "cell_type": "markdown",
   "id": "266dd6dd",
   "metadata": {},
   "source": [
    "## creating array from scratch"
   ]
  },
  {
   "cell_type": "code",
   "execution_count": 24,
   "id": "31b07f84",
   "metadata": {},
   "outputs": [
    {
     "name": "stdout",
     "output_type": "stream",
     "text": [
      "Zero array :\n",
      " [[0. 0.]\n",
      " [0. 0.]]\n",
      "one array:\n",
      " [[1. 1.]\n",
      " [1. 1.]]\n",
      "full array: \n",
      " [[7 7]\n",
      " [7 7]]\n",
      "random array: \n",
      " [[0.2272409  0.73190554 0.24937908]\n",
      " [0.46145515 0.84297856 0.82857759]]\n",
      "sequence array: \n",
      " [0 2 4 6 8]\n"
     ]
    }
   ],
   "source": [
    "zeros = np.zeros((2,2))\n",
    "print('Zero array :\\n',zeros)\n",
    "\n",
    "ones = np.ones((2,2))\n",
    "print('one array:\\n',ones)\n",
    "\n",
    "full = np.full((2,2),7)\n",
    "print('full array: \\n',full)\n",
    "\n",
    "random = np.random.random((2,3))\n",
    "print('random array: \\n',random)\n",
    "\n",
    "sequence = np.arange(0,10,2)\n",
    "print('sequence array: \\n',sequence)\n",
    "\n",
    "\n"
   ]
  },
  {
   "cell_type": "markdown",
   "id": "d4864515",
   "metadata": {},
   "source": [
    "### Vector, Matrix and Tenser\n"
   ]
  },
  {
   "cell_type": "code",
   "execution_count": 25,
   "id": "5b6346f5",
   "metadata": {},
   "outputs": [
    {
     "name": "stdout",
     "output_type": "stream",
     "text": [
      "Vector:\n",
      "  [1 2 3 4]\n",
      "matrix:\n",
      "  [[1 2 3]\n",
      " [1 2 3]]\n",
      "tenser:\n",
      " [[[1 2]\n",
      "  [3 4]]\n",
      "\n",
      " [[5 6]\n",
      "  [7 8]]]\n"
     ]
    }
   ],
   "source": [
    "vector = np.array([1,2,3,4])\n",
    "print('Vector:\\n ',vector)\n",
    "\n",
    "matrix = np.array([[1,2,3],[1,2,3]])\n",
    "print('matrix:\\n ',matrix)\n",
    "\n",
    "tenser = np.array([[[1,2],[3,4]],[[5,6],[7,8]]])\n",
    "print('tenser:\\n',tenser)\n"
   ]
  },
  {
   "cell_type": "markdown",
   "id": "da208fc7",
   "metadata": {},
   "source": [
    "### Array Properties"
   ]
  },
  {
   "cell_type": "code",
   "execution_count": 26,
   "id": "49fc7ca8",
   "metadata": {},
   "outputs": [
    {
     "name": "stdout",
     "output_type": "stream",
     "text": [
      "Shape  (2, 3)\n",
      "Dimension  2\n",
      "Size  6\n",
      "DType  int64\n"
     ]
    }
   ],
   "source": [
    "arr = np.array([[1,2,3],[4,5,6]])\n",
    "print('Shape ',arr.shape)\n",
    "print('Dimension ',arr.ndim)\n",
    "print('Size ',arr.size)\n",
    "print('DType ',arr.dtype)\n"
   ]
  },
  {
   "cell_type": "markdown",
   "id": "dac76ed9",
   "metadata": {},
   "source": [
    "### Array Reshaping"
   ]
  },
  {
   "cell_type": "code",
   "execution_count": 9,
   "id": "c074b555",
   "metadata": {},
   "outputs": [
    {
     "name": "stdout",
     "output_type": "stream",
     "text": [
      "original array\n",
      " [ 0  1  2  3  4  5  6  7  8  9 10 11]\n",
      "reshaped array\n",
      " [[ 0  1  2  3]\n",
      " [ 4  5  6  7]\n",
      " [ 8  9 10 11]]\n",
      "convert list into array and reshaped\n",
      " [[1 2 4]\n",
      " [3 5 6]]\n",
      "flattend\n",
      " [ 0  1  2  3  4  5  6  7  8  9 10 11]\n",
      "raveled\n",
      " [ 0  1  2  3  4  5  6  7  8  9 10 11]\n",
      "Transpose\n",
      " [[ 0  4  8]\n",
      " [ 1  5  9]\n",
      " [ 2  6 10]\n",
      " [ 3  7 11]]\n"
     ]
    }
   ],
   "source": [
    "arr = np.arange(0,12)\n",
    "print('original array\\n',arr)\n",
    "\n",
    "reshaped = arr.reshape((3,4))\n",
    "print('reshaped array\\n',reshaped)\n",
    "\n",
    "# or\n",
    "a = [1,2,4,3,5,6]\n",
    "print('convert list into array and reshaped\\n',np.reshape(a,(2,3)))\n",
    "\n",
    "flattend = reshaped.flatten()\n",
    "print('flattend\\n',flattend)\n",
    "\n",
    "# ravel ( return view, insted of copy)\n",
    "raveled = reshaped.ravel()\n",
    "print('raveled\\n',raveled)\n",
    "\n",
    "transpose = reshaped.T\n",
    "print('Transpose\\n',transpose)\n",
    "\n",
    "\n"
   ]
  },
  {
   "cell_type": "code",
   "execution_count": 22,
   "id": "52228de9",
   "metadata": {},
   "outputs": [
    {
     "name": "stdout",
     "output_type": "stream",
     "text": [
      "\n",
      " [[1. 0.]\n",
      " [0. 1.]]\n",
      "\n",
      " [[1. 1.]\n",
      " [1. 1.]]\n",
      "\n",
      " [[2. 2.]\n",
      " [2. 2.]]\n",
      "\n",
      " [[1. 0. 1. 1.]\n",
      " [0. 1. 1. 1.]\n",
      " [2. 2. 1. 0.]\n",
      " [2. 2. 0. 1.]]\n"
     ]
    }
   ],
   "source": [
    "\n",
    "\n",
    "A = np.eye(2)       # 2x2 identity\n",
    "B = np.ones((2,2))  # 2x2 ones\n",
    "C = 2 * np.ones((2,2))\n",
    "print('\\n',A)\n",
    "print('\\n',B)\n",
    "print('\\n',C)\n",
    "M = np.block([[A, B],\n",
    "              [C, A]])\n",
    "\n",
    "print('\\n',M)\n"
   ]
  }
 ],
 "metadata": {
  "kernelspec": {
   "display_name": "Python 3",
   "language": "python",
   "name": "python3"
  },
  "language_info": {
   "codemirror_mode": {
    "name": "ipython",
    "version": 3
   },
   "file_extension": ".py",
   "mimetype": "text/x-python",
   "name": "python",
   "nbconvert_exporter": "python",
   "pygments_lexer": "ipython3",
   "version": "3.13.7"
  }
 },
 "nbformat": 4,
 "nbformat_minor": 5
}
