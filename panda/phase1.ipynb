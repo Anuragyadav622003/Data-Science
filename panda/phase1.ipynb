{
 "cells": [
  {
   "cell_type": "markdown",
   "id": "19c4af05",
   "metadata": {},
   "source": []
  },
  {
   "cell_type": "markdown",
   "id": "94dc1a34",
   "metadata": {},
   "source": [
    "# Pandas Series\n",
    "\n",
    "A Series is one-dimentional labeled array capable of handling any data type. The axis labels are collectively called the index."
   ]
  },
  {
   "cell_type": "markdown",
   "id": "67c51c61",
   "metadata": {},
   "source": [
    "### Creating Series\n",
    "\n",
    "There are multiple ways to create pandas series."
   ]
  },
  {
   "cell_type": "code",
   "execution_count": 2,
   "id": "90a62fa1",
   "metadata": {},
   "outputs": [],
   "source": [
    "import  numpy as np \n",
    "import pandas as pd\n",
    "\n"
   ]
  },
  {
   "cell_type": "code",
   "execution_count": 73,
   "id": "35c03a12",
   "metadata": {},
   "outputs": [],
   "source": [
    "labels = ['a','b','c']\n",
    "mylist = [10,20,30]\n",
    "arr = np.array([10,20,30])\n",
    "d = {1:10,2:20,10:30}"
   ]
  },
  {
   "cell_type": "code",
   "execution_count": 74,
   "id": "ae15951c",
   "metadata": {},
   "outputs": [
    {
     "data": {
      "text/plain": [
       "a    10\n",
       "b    20\n",
       "c    30\n",
       "dtype: int64"
      ]
     },
     "execution_count": 74,
     "metadata": {},
     "output_type": "execute_result"
    }
   ],
   "source": [
    "pd.Series(data = mylist,index=labels)"
   ]
  },
  {
   "cell_type": "code",
   "execution_count": 75,
   "id": "cd479b54",
   "metadata": {},
   "outputs": [
    {
     "data": {
      "text/plain": [
       "0    10\n",
       "1    20\n",
       "2    30\n",
       "dtype: int64"
      ]
     },
     "execution_count": 75,
     "metadata": {},
     "output_type": "execute_result"
    }
   ],
   "source": [
    "pd.Series(arr)"
   ]
  },
  {
   "cell_type": "code",
   "execution_count": 76,
   "id": "79e4b921",
   "metadata": {},
   "outputs": [
    {
     "data": {
      "text/plain": [
       "1     10\n",
       "2     20\n",
       "10    30\n",
       "dtype: int64"
      ]
     },
     "execution_count": 76,
     "metadata": {},
     "output_type": "execute_result"
    }
   ],
   "source": [
    "pd.Series(d)\n",
    "# key will be the index by default"
   ]
  },
  {
   "cell_type": "markdown",
   "id": "d21df6aa",
   "metadata": {},
   "source": [
    "### 🔹 What is a DataFrame?\n",
    "\n",
    "A DataFrame is a 2D labeled data structure in pandas.\n",
    "Think of it like an Excel sheet or SQL table:\n",
    "\n",
    "Rows → observations/records\n",
    "\n",
    "Columns → fields/features\n",
    "\n",
    "It’s built on top of NumPy arrays but with more flexibility."
   ]
  },
  {
   "cell_type": "code",
   "execution_count": 77,
   "id": "dd601873",
   "metadata": {},
   "outputs": [
    {
     "name": "stdout",
     "output_type": "stream",
     "text": [
      "\n",
      "from dictionary\n",
      "      Name  Age Department\n",
      "0  Anurag   25         IT\n",
      "1    Ravi   30         HR\n",
      "2   Sneha   28    Finance\n",
      "\n",
      "from lists without column header \n",
      "    0       1      2\n",
      "0  1  Laptop  60000\n",
      "1  2  Mobile  30000\n",
      "2  3  Tablet  20000\n",
      "\n",
      "from lists\n",
      "    ID Product  Price\n",
      "0   1  Laptop  60000\n",
      "1   2  Mobile  30000\n",
      "2   3  Tablet  20000\n"
     ]
    }
   ],
   "source": [
    "# from  dictionary \n",
    "\n",
    "data = {\n",
    "    \"Name\": [\"Anurag\", \"Ravi\", \"Sneha\"],\n",
    "    \"Age\": [25, 30, 28],\n",
    "    \"Department\": [\"IT\", \"HR\", \"Finance\"]\n",
    "}\n",
    "\n",
    "df = pd.DataFrame(data)\n",
    "print('\\nfrom dictionary\\n',df)\n",
    "\n",
    "\n",
    "# from lists\n",
    "\n",
    "data = [\n",
    "    [1, 'Laptop', 60000],\n",
    "    [2, 'Mobile', 30000],\n",
    "    [3, 'Tablet', 20000]\n",
    "]\n",
    "\n",
    "df = pd.DataFrame(data)\n",
    "print('\\nfrom lists without column header \\n',df)\n",
    "df = pd.DataFrame(data,columns=['ID','Product','Price'])\n",
    "print('\\nfrom lists\\n',df)\n"
   ]
  },
  {
   "cell_type": "code",
   "execution_count": 78,
   "id": "e4601b08",
   "metadata": {},
   "outputs": [],
   "source": [
    "# df = pd.read_csv(\"data.csv\")\n",
    "# print(df.head())  # first 5 rows\n"
   ]
  },
  {
   "cell_type": "markdown",
   "id": "dd1d5a86",
   "metadata": {},
   "source": [
    "Selecting and Indexing of Columns"
   ]
  },
  {
   "cell_type": "code",
   "execution_count": 90,
   "id": "a82ac9ea",
   "metadata": {},
   "outputs": [
    {
     "name": "stdout",
     "output_type": "stream",
     "text": [
      "Select a single column\n",
      "\n"
     ]
    },
    {
     "data": {
      "text/plain": [
       "0    Laptop\n",
       "1    Mobile\n",
       "2    Tablet\n",
       "Name: Product, dtype: object"
      ]
     },
     "execution_count": 90,
     "metadata": {},
     "output_type": "execute_result"
    }
   ],
   "source": [
    "print('Select a single column\\n')\n",
    "df['Product']"
   ]
  },
  {
   "cell_type": "code",
   "execution_count": 91,
   "id": "c17a292a",
   "metadata": {},
   "outputs": [
    {
     "name": "stdout",
     "output_type": "stream",
     "text": [
      "Select multiple columns\n"
     ]
    },
    {
     "data": {
      "text/html": [
       "<div>\n",
       "<style scoped>\n",
       "    .dataframe tbody tr th:only-of-type {\n",
       "        vertical-align: middle;\n",
       "    }\n",
       "\n",
       "    .dataframe tbody tr th {\n",
       "        vertical-align: top;\n",
       "    }\n",
       "\n",
       "    .dataframe thead th {\n",
       "        text-align: right;\n",
       "    }\n",
       "</style>\n",
       "<table border=\"1\" class=\"dataframe\">\n",
       "  <thead>\n",
       "    <tr style=\"text-align: right;\">\n",
       "      <th></th>\n",
       "      <th>Product</th>\n",
       "      <th>Price</th>\n",
       "    </tr>\n",
       "  </thead>\n",
       "  <tbody>\n",
       "    <tr>\n",
       "      <th>0</th>\n",
       "      <td>Laptop</td>\n",
       "      <td>60000</td>\n",
       "    </tr>\n",
       "    <tr>\n",
       "      <th>1</th>\n",
       "      <td>Mobile</td>\n",
       "      <td>30000</td>\n",
       "    </tr>\n",
       "    <tr>\n",
       "      <th>2</th>\n",
       "      <td>Tablet</td>\n",
       "      <td>20000</td>\n",
       "    </tr>\n",
       "  </tbody>\n",
       "</table>\n",
       "</div>"
      ],
      "text/plain": [
       "  Product  Price\n",
       "0  Laptop  60000\n",
       "1  Mobile  30000\n",
       "2  Tablet  20000"
      ]
     },
     "execution_count": 91,
     "metadata": {},
     "output_type": "execute_result"
    }
   ],
   "source": [
    "print('Select multiple columns')\n",
    "df[['Product','Price']]"
   ]
  },
  {
   "cell_type": "markdown",
   "id": "2de8e955",
   "metadata": {},
   "source": [
    "### Indexing Rows & Columns"
   ]
  },
  {
   "cell_type": "markdown",
   "id": "6b86f8b7",
   "metadata": {},
   "source": [
    "Using iloc → index-based selection"
   ]
  },
  {
   "cell_type": "code",
   "execution_count": null,
   "id": "1e09ee10",
   "metadata": {},
   "outputs": [
    {
     "name": "stdout",
     "output_type": "stream",
     "text": [
      "first row\n",
      " ID               1\n",
      "Product     Laptop\n",
      "Price        60000\n",
      "Discount         5\n",
      "Name: 0, dtype: object\n",
      "\n",
      "first row 3rd column\n",
      " 10\n",
      "\n",
      "all rows, second column\n",
      " 0    Laptop\n",
      "1    Mobile\n",
      "2    Tablet\n",
      "Name: Product, dtype: object\n",
      "\n",
      "all rows, second  and 3rd column\n",
      "   Product  Price\n",
      "0  Laptop  60000\n",
      "1  Mobile  30000\n",
      "2  Tablet  20000\n"
     ]
    }
   ],
   "source": [
    "print('first row\\n',df.iloc[0])     \n",
    "print('\\nfirst row 3rd column\\n',df.iloc[1, 3]) \n",
    "print('\\nall rows, second column\\n',df.iloc[:, 1])\n",
    "print('\\nall rows, second  and 3rd column\\n',df.iloc[:, 1:3])\n",
    "\n"
   ]
  },
  {
   "cell_type": "markdown",
   "id": "9d406f03",
   "metadata": {},
   "source": [
    "Using loc → label-based selection"
   ]
  },
  {
   "cell_type": "code",
   "execution_count": 76,
   "id": "29d80d0a",
   "metadata": {},
   "outputs": [
    {
     "name": "stdout",
     "output_type": "stream",
     "text": [
      "\n",
      " Name       Alice\n",
      "Age           24\n",
      "City    New York\n",
      "Name: a, dtype: object\n",
      "\n",
      "       Name  Age      City\n",
      "a    Alice   24  New York\n",
      "c  Charlie   35     Paris\n"
     ]
    }
   ],
   "source": [
    "data = {\n",
    "    \"Name\": [\"Alice\", \"Bob\", \"Charlie\", \"David\"],\n",
    "    \"Age\": [24, 30, 35, 40],\n",
    "    \"City\": [\"New York\", \"London\", \"Paris\", \"Tokyo\"]\n",
    "}\n",
    "\n",
    "df1 = pd.DataFrame(data, index=[\"a\", \"b\", \"c\", \"d\"])\n",
    "\n",
    "# Using label index\n",
    "print('\\n',df1.loc[\"a\"])      # Row with index label \"a\"\n",
    "print('\\n',df1.loc[[\"a\", \"c\"]])  # Multiple rows"
   ]
  },
  {
   "cell_type": "markdown",
   "id": "75dbdb00",
   "metadata": {},
   "source": [
    "Selecting Subset \n"
   ]
  },
  {
   "cell_type": "code",
   "execution_count": 77,
   "id": "ed119d01",
   "metadata": {},
   "outputs": [
    {
     "name": "stdout",
     "output_type": "stream",
     "text": [
      "    Name      City\n",
      "a  Alice  New York\n",
      "b    Bob    London \n",
      "\n",
      "    Name      City\n",
      "a  Alice  New York\n",
      "b    Bob    London \n",
      "\n",
      "    City  Age\n",
      "c  Paris   35\n",
      "d  Tokyo   40 \n",
      "\n"
     ]
    }
   ],
   "source": [
    "print(df.loc[['a','b']][['Name','City']],'\\n')\n",
    "#OR\n",
    "print(df.loc[['a','b'],['Name','City']],'\\n')\n",
    "\n",
    "print(df.loc[['c','d'],['City','Age']],'\\n')"
   ]
  },
  {
   "cell_type": "markdown",
   "id": "58eac8c0",
   "metadata": {},
   "source": [
    "Conditional Selection"
   ]
  },
  {
   "cell_type": "code",
   "execution_count": 79,
   "id": "813e133e",
   "metadata": {},
   "outputs": [
    {
     "name": "stdout",
     "output_type": "stream",
     "text": [
      "      Name  Age   City\n",
      "c  Charlie   35  Paris\n",
      "d    David   40  Tokyo\n",
      "\n",
      "     Name  Age      City\n",
      "a  Alice   24  New York\n",
      "\n",
      "   Name  Age\n",
      "b  Bob   30\n"
     ]
    }
   ],
   "source": [
    "# Select rows where Age > 30\n",
    "print(df.loc[df1[\"Age\"] > 30])\n",
    "\n",
    "print('\\n',df.loc[(df['Age']<30) & (df['City']=='New York')])\n",
    "\n",
    "# Select names where City == \"London\"\n",
    "print('\\n',df1.loc[df1[\"City\"] == \"London\", [\"Name\",'Age']])\n"
   ]
  },
  {
   "cell_type": "markdown",
   "id": "c78ba4f1",
   "metadata": {},
   "source": [
    "Slicing"
   ]
  },
  {
   "cell_type": "code",
   "execution_count": 61,
   "id": "b14c3c3a",
   "metadata": {},
   "outputs": [
    {
     "name": "stdout",
     "output_type": "stream",
     "text": [
      "    Name  Age      City\n",
      "a  Alice   24  New York\n",
      "b    Bob   30    London\n",
      "      Name  Age      City\n",
      "a    Alice   24  New York\n",
      "b      Bob   30    London\n",
      "c  Charlie   35     Paris\n"
     ]
    }
   ],
   "source": [
    "# Row slicing (by labels)\n",
    "print(df1.loc[\"a\":\"b\"])   # includes \"c\"\n",
    "\n",
    "# Row slicing (by index positions)\n",
    "print(df1.iloc[0:3])    "
   ]
  },
  {
   "cell_type": "markdown",
   "id": "4849d471",
   "metadata": {},
   "source": [
    "creating new column"
   ]
  },
  {
   "cell_type": "code",
   "execution_count": 62,
   "id": "c0026e3e",
   "metadata": {},
   "outputs": [
    {
     "data": {
      "text/html": [
       "<div>\n",
       "<style scoped>\n",
       "    .dataframe tbody tr th:only-of-type {\n",
       "        vertical-align: middle;\n",
       "    }\n",
       "\n",
       "    .dataframe tbody tr th {\n",
       "        vertical-align: top;\n",
       "    }\n",
       "\n",
       "    .dataframe thead th {\n",
       "        text-align: right;\n",
       "    }\n",
       "</style>\n",
       "<table border=\"1\" class=\"dataframe\">\n",
       "  <thead>\n",
       "    <tr style=\"text-align: right;\">\n",
       "      <th></th>\n",
       "      <th>Name</th>\n",
       "      <th>Age</th>\n",
       "      <th>City</th>\n",
       "      <th>Discount</th>\n",
       "    </tr>\n",
       "  </thead>\n",
       "  <tbody>\n",
       "    <tr>\n",
       "      <th>a</th>\n",
       "      <td>Alice</td>\n",
       "      <td>24</td>\n",
       "      <td>New York</td>\n",
       "      <td>5</td>\n",
       "    </tr>\n",
       "    <tr>\n",
       "      <th>b</th>\n",
       "      <td>Bob</td>\n",
       "      <td>30</td>\n",
       "      <td>London</td>\n",
       "      <td>10</td>\n",
       "    </tr>\n",
       "    <tr>\n",
       "      <th>c</th>\n",
       "      <td>Charlie</td>\n",
       "      <td>35</td>\n",
       "      <td>Paris</td>\n",
       "      <td>15</td>\n",
       "    </tr>\n",
       "    <tr>\n",
       "      <th>d</th>\n",
       "      <td>David</td>\n",
       "      <td>40</td>\n",
       "      <td>Tokyo</td>\n",
       "      <td>45</td>\n",
       "    </tr>\n",
       "  </tbody>\n",
       "</table>\n",
       "</div>"
      ],
      "text/plain": [
       "      Name  Age      City  Discount\n",
       "a    Alice   24  New York         5\n",
       "b      Bob   30    London        10\n",
       "c  Charlie   35     Paris        15\n",
       "d    David   40     Tokyo        45"
      ]
     },
     "execution_count": 62,
     "metadata": {},
     "output_type": "execute_result"
    }
   ],
   "source": [
    "df1['Discount'] = [5,10,15,45]\n",
    "df1"
   ]
  },
  {
   "cell_type": "markdown",
   "id": "93ab1649",
   "metadata": {},
   "source": [
    "Removing column"
   ]
  },
  {
   "cell_type": "code",
   "execution_count": 63,
   "id": "840a4a74",
   "metadata": {},
   "outputs": [
    {
     "name": "stdout",
     "output_type": "stream",
     "text": [
      "\n",
      "       Name  Age  Discount\n",
      "a    Alice   24         5\n",
      "b      Bob   30        10\n",
      "c  Charlie   35        15\n",
      "d    David   40        45\n",
      "\n",
      "       Name      City\n",
      "a    Alice  New York\n",
      "b      Bob    London\n",
      "c  Charlie     Paris\n",
      "d    David     Tokyo\n"
     ]
    }
   ],
   "source": [
    "# Removing single column\n",
    "print('\\n',df1.drop('City', axis=1))  # axis=1 means column\n",
    "\n",
    "# Removing Multiple Columns\n",
    "print('\\n',df1.drop(['Age','Discount'], axis=1))\n",
    "\n",
    "\n"
   ]
  },
  {
   "cell_type": "code",
   "execution_count": null,
   "id": "a53b06fc",
   "metadata": {},
   "outputs": [
    {
     "name": "stdout",
     "output_type": "stream",
     "text": [
      "\n",
      " These drop  change the original dataframe None\n"
     ]
    }
   ],
   "source": [
    "print('\\n These drop  change the original dataframe',df1.drop('Age',axis=1,inplace = True))# drop() returns None (because it doesn’t need to return anything — the original df1 is already changed)."
   ]
  },
  {
   "cell_type": "code",
   "execution_count": 65,
   "id": "68aa6c5c",
   "metadata": {},
   "outputs": [
    {
     "data": {
      "text/html": [
       "<div>\n",
       "<style scoped>\n",
       "    .dataframe tbody tr th:only-of-type {\n",
       "        vertical-align: middle;\n",
       "    }\n",
       "\n",
       "    .dataframe tbody tr th {\n",
       "        vertical-align: top;\n",
       "    }\n",
       "\n",
       "    .dataframe thead th {\n",
       "        text-align: right;\n",
       "    }\n",
       "</style>\n",
       "<table border=\"1\" class=\"dataframe\">\n",
       "  <thead>\n",
       "    <tr style=\"text-align: right;\">\n",
       "      <th></th>\n",
       "      <th>Name</th>\n",
       "      <th>City</th>\n",
       "      <th>Discount</th>\n",
       "    </tr>\n",
       "  </thead>\n",
       "  <tbody>\n",
       "    <tr>\n",
       "      <th>a</th>\n",
       "      <td>Alice</td>\n",
       "      <td>New York</td>\n",
       "      <td>5</td>\n",
       "    </tr>\n",
       "    <tr>\n",
       "      <th>b</th>\n",
       "      <td>Bob</td>\n",
       "      <td>London</td>\n",
       "      <td>10</td>\n",
       "    </tr>\n",
       "    <tr>\n",
       "      <th>c</th>\n",
       "      <td>Charlie</td>\n",
       "      <td>Paris</td>\n",
       "      <td>15</td>\n",
       "    </tr>\n",
       "    <tr>\n",
       "      <th>d</th>\n",
       "      <td>David</td>\n",
       "      <td>Tokyo</td>\n",
       "      <td>45</td>\n",
       "    </tr>\n",
       "  </tbody>\n",
       "</table>\n",
       "</div>"
      ],
      "text/plain": [
       "      Name      City  Discount\n",
       "a    Alice  New York         5\n",
       "b      Bob    London        10\n",
       "c  Charlie     Paris        15\n",
       "d    David     Tokyo        45"
      ]
     },
     "execution_count": 65,
     "metadata": {},
     "output_type": "execute_result"
    }
   ],
   "source": [
    "df1"
   ]
  }
 ],
 "metadata": {
  "kernelspec": {
   "display_name": "venv",
   "language": "python",
   "name": "python3"
  },
  "language_info": {
   "codemirror_mode": {
    "name": "ipython",
    "version": 3
   },
   "file_extension": ".py",
   "mimetype": "text/x-python",
   "name": "python",
   "nbconvert_exporter": "python",
   "pygments_lexer": "ipython3",
   "version": "3.13.7"
  }
 },
 "nbformat": 4,
 "nbformat_minor": 5
}
