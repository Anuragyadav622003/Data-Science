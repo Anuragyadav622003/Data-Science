{
 "cells": [
  {
   "cell_type": "markdown",
   "id": "e5419b80",
   "metadata": {},
   "source": [
    "# Group By and Aggrigation"
   ]
  },
  {
   "cell_type": "code",
   "execution_count": null,
   "id": "6f357e93",
   "metadata": {},
   "outputs": [],
   "source": [
    "import numpy as np\n",
    "\n",
    "import pandas as pd\n"
   ]
  },
  {
   "cell_type": "code",
   "execution_count": 3,
   "id": "57b8c626",
   "metadata": {},
   "outputs": [],
   "source": [
    "data = {\n",
    "    \"Category\": [\"Electronics\", \"Electronics\", \"Clothing\", \"Clothing\", \"Groceries\", \"Groceries\"],\n",
    "    \"Store\": [\"Store A\", \"Store B\", \"Store A\", \"Store C\", \"Store B\", \"Store C\"],\n",
    "    \"Sales\": [1200, 1500, 800, 600, 400, 900],\n",
    "    \"Quantity\": [3, 4, 5, 2, 10, 15],\n",
    "    \"Date\": pd.to_datetime([\"2025-09-01\", \"2025-09-02\", \"2025-09-02\", \"2025-09-03\", \"2025-09-03\", \"2025-09-04\"])\n",
    "}\n",
    "\n",
    "df = pd.DataFrame(data)\n",
    "\n"
   ]
  },
  {
   "cell_type": "code",
   "execution_count": 4,
   "id": "5481d986",
   "metadata": {},
   "outputs": [
    {
     "data": {
      "text/html": [
       "<div>\n",
       "<style scoped>\n",
       "    .dataframe tbody tr th:only-of-type {\n",
       "        vertical-align: middle;\n",
       "    }\n",
       "\n",
       "    .dataframe tbody tr th {\n",
       "        vertical-align: top;\n",
       "    }\n",
       "\n",
       "    .dataframe thead th {\n",
       "        text-align: right;\n",
       "    }\n",
       "</style>\n",
       "<table border=\"1\" class=\"dataframe\">\n",
       "  <thead>\n",
       "    <tr style=\"text-align: right;\">\n",
       "      <th></th>\n",
       "      <th>Category</th>\n",
       "      <th>Store</th>\n",
       "      <th>Sales</th>\n",
       "      <th>Quantity</th>\n",
       "      <th>Date</th>\n",
       "    </tr>\n",
       "  </thead>\n",
       "  <tbody>\n",
       "    <tr>\n",
       "      <th>0</th>\n",
       "      <td>Electronics</td>\n",
       "      <td>Store A</td>\n",
       "      <td>1200</td>\n",
       "      <td>3</td>\n",
       "      <td>2025-09-01</td>\n",
       "    </tr>\n",
       "    <tr>\n",
       "      <th>1</th>\n",
       "      <td>Electronics</td>\n",
       "      <td>Store B</td>\n",
       "      <td>1500</td>\n",
       "      <td>4</td>\n",
       "      <td>2025-09-02</td>\n",
       "    </tr>\n",
       "    <tr>\n",
       "      <th>2</th>\n",
       "      <td>Clothing</td>\n",
       "      <td>Store A</td>\n",
       "      <td>800</td>\n",
       "      <td>5</td>\n",
       "      <td>2025-09-02</td>\n",
       "    </tr>\n",
       "    <tr>\n",
       "      <th>3</th>\n",
       "      <td>Clothing</td>\n",
       "      <td>Store C</td>\n",
       "      <td>600</td>\n",
       "      <td>2</td>\n",
       "      <td>2025-09-03</td>\n",
       "    </tr>\n",
       "    <tr>\n",
       "      <th>4</th>\n",
       "      <td>Groceries</td>\n",
       "      <td>Store B</td>\n",
       "      <td>400</td>\n",
       "      <td>10</td>\n",
       "      <td>2025-09-03</td>\n",
       "    </tr>\n",
       "    <tr>\n",
       "      <th>5</th>\n",
       "      <td>Groceries</td>\n",
       "      <td>Store C</td>\n",
       "      <td>900</td>\n",
       "      <td>15</td>\n",
       "      <td>2025-09-04</td>\n",
       "    </tr>\n",
       "  </tbody>\n",
       "</table>\n",
       "</div>"
      ],
      "text/plain": [
       "      Category    Store  Sales  Quantity       Date\n",
       "0  Electronics  Store A   1200         3 2025-09-01\n",
       "1  Electronics  Store B   1500         4 2025-09-02\n",
       "2     Clothing  Store A    800         5 2025-09-02\n",
       "3     Clothing  Store C    600         2 2025-09-03\n",
       "4    Groceries  Store B    400        10 2025-09-03\n",
       "5    Groceries  Store C    900        15 2025-09-04"
      ]
     },
     "execution_count": 4,
     "metadata": {},
     "output_type": "execute_result"
    }
   ],
   "source": [
    "df\n"
   ]
  },
  {
   "cell_type": "code",
   "execution_count": 13,
   "id": "4fb7af26",
   "metadata": {},
   "outputs": [
    {
     "name": "stdout",
     "output_type": "stream",
     "text": [
      "Clothing\n",
      "   Category    Store  Sales  Quantity       Date\n",
      "2  Clothing  Store A    800         5 2025-09-02\n",
      "3  Clothing  Store C    600         2 2025-09-03\n",
      "Electronics\n",
      "      Category    Store  Sales  Quantity       Date\n",
      "0  Electronics  Store A   1200         3 2025-09-01\n",
      "1  Electronics  Store B   1500         4 2025-09-02\n",
      "Groceries\n",
      "    Category    Store  Sales  Quantity       Date\n",
      "4  Groceries  Store B    400        10 2025-09-03\n",
      "5  Groceries  Store C    900        15 2025-09-04\n"
     ]
    }
   ],
   "source": [
    "# Group by category \n",
    "obj = df.groupby('Category')\n",
    "for name,group in obj:\n",
    "    print(name)\n",
    "    print(group)"
   ]
  },
  {
   "cell_type": "code",
   "execution_count": null,
   "id": "28009a69",
   "metadata": {},
   "outputs": [
    {
     "data": {
      "text/plain": [
       "Category\n",
       "Clothing       1400\n",
       "Electronics    2700\n",
       "Groceries      1300\n",
       "Name: Sales, dtype: int64"
      ]
     },
     "execution_count": 14,
     "metadata": {},
     "output_type": "execute_result"
    }
   ],
   "source": [
    "# group by Category and sum of Sales\n",
    "df.groupby('Category')['Sales'].sum()"
   ]
  },
  {
   "cell_type": "code",
   "execution_count": 15,
   "id": "90627c36",
   "metadata": {},
   "outputs": [
    {
     "data": {
      "text/plain": [
       "Store\n",
       "Store A    2000\n",
       "Store B    1900\n",
       "Store C    1500\n",
       "Name: Sales, dtype: int64"
      ]
     },
     "execution_count": 15,
     "metadata": {},
     "output_type": "execute_result"
    }
   ],
   "source": [
    "# Group by store and calculate  the sum of the sales\n",
    "df.groupby('Store')['Sales'].sum()"
   ]
  },
  {
   "cell_type": "code",
   "execution_count": 18,
   "id": "ca80bb03",
   "metadata": {},
   "outputs": [
    {
     "data": {
      "text/plain": [
       "Category     Store  \n",
       "Clothing     Store A     800\n",
       "             Store C     600\n",
       "Electronics  Store A    1200\n",
       "             Store B    1500\n",
       "Groceries    Store B     400\n",
       "             Store C     900\n",
       "Name: Sales, dtype: int64"
      ]
     },
     "execution_count": 18,
     "metadata": {},
     "output_type": "execute_result"
    }
   ],
   "source": [
    "# Group by multiple columns\n",
    "df.groupby(['Category','Store'])['Sales'].sum()"
   ]
  },
  {
   "cell_type": "code",
   "execution_count": 21,
   "id": "e5be192e",
   "metadata": {},
   "outputs": [
    {
     "data": {
      "text/plain": [
       "Category     Store  \n",
       "Clothing     Store A     800.0\n",
       "             Store C     600.0\n",
       "Electronics  Store A    1200.0\n",
       "             Store B    1500.0\n",
       "Groceries    Store B     400.0\n",
       "             Store C     900.0\n",
       "Name: Sales, dtype: float64"
      ]
     },
     "execution_count": 21,
     "metadata": {},
     "output_type": "execute_result"
    }
   ],
   "source": [
    "df.groupby(['Category','Store'])['Sales'].mean()"
   ]
  },
  {
   "cell_type": "markdown",
   "id": "fadbb702",
   "metadata": {},
   "source": [
    "Aggregation"
   ]
  },
  {
   "cell_type": "code",
   "execution_count": null,
   "id": "d64a954e",
   "metadata": {},
   "outputs": [
    {
     "data": {
      "text/plain": [
       "'\\n(mean,median,std,min,max,count,sum,var)\\n\\n'"
      ]
     },
     "execution_count": 33,
     "metadata": {},
     "output_type": "execute_result"
    }
   ],
   "source": [
    "df['Sales'].mean()\n",
    "'''\n",
    "(mean,median,std,min,max,count,sum,var)\n",
    "all return a single value\n",
    "'''"
   ]
  },
  {
   "cell_type": "code",
   "execution_count": 30,
   "id": "c1623d42",
   "metadata": {},
   "outputs": [
    {
     "data": {
      "text/plain": [
       "mean         900.0\n",
       "median       850.0\n",
       "max         1500.0\n",
       "min          400.0\n",
       "std          400.0\n",
       "var       160000.0\n",
       "count          6.0\n",
       "sum         5400.0\n",
       "Name: Sales, dtype: float64"
      ]
     },
     "execution_count": 30,
     "metadata": {},
     "output_type": "execute_result"
    }
   ],
   "source": [
    "df['Sales'].agg(['mean','median','max','min','std','var','count','sum'])"
   ]
  },
  {
   "cell_type": "markdown",
   "id": "ce638a66",
   "metadata": {},
   "source": [
    "### 🔹Why is mode tricky?\n",
    "\n",
    "Mode = the most frequent value in a group.\n",
    "\n",
    "But unlike sum or mean, the mode isn’t guaranteed to be unique.\n",
    "\n",
    "Example: if in one group you have [2, 2, 3, 3], both 2 and 3 are modes.\n",
    "\n",
    "That means the result could be multiple values."
   ]
  },
  {
   "cell_type": "code",
   "execution_count": 31,
   "id": "0b863cd5",
   "metadata": {},
   "outputs": [
    {
     "data": {
      "text/plain": [
       "0     400\n",
       "1     600\n",
       "2     800\n",
       "3     900\n",
       "4    1200\n",
       "5    1500\n",
       "Name: Sales, dtype: int64"
      ]
     },
     "execution_count": 31,
     "metadata": {},
     "output_type": "execute_result"
    }
   ],
   "source": [
    "df['Sales'].mode()"
   ]
  },
  {
   "cell_type": "code",
   "execution_count": 36,
   "id": "bddf3f29",
   "metadata": {},
   "outputs": [
    {
     "data": {
      "text/plain": [
       "Category\n",
       "Clothing        600\n",
       "Electronics    1200\n",
       "Groceries       400\n",
       "Name: Sales, dtype: int64"
      ]
     },
     "execution_count": 36,
     "metadata": {},
     "output_type": "execute_result"
    }
   ],
   "source": [
    "# Pick one mode (most common → [0]):\n",
    "df.groupby(\"Category\")[\"Sales\"].agg(lambda x: x.mode()[0])\n"
   ]
  },
  {
   "cell_type": "code",
   "execution_count": 37,
   "id": "4a852515",
   "metadata": {},
   "outputs": [
    {
     "data": {
      "text/plain": [
       "Category\n",
       "Clothing         [600, 800]\n",
       "Electronics    [1200, 1500]\n",
       "Groceries        [400, 900]\n",
       "Name: Sales, dtype: object"
      ]
     },
     "execution_count": 37,
     "metadata": {},
     "output_type": "execute_result"
    }
   ],
   "source": [
    "# Return all modes (as a list):\n",
    "df.groupby(\"Category\")[\"Sales\"].apply(lambda x: x.mode().tolist())"
   ]
  }
 ],
 "metadata": {
  "kernelspec": {
   "display_name": "venv",
   "language": "python",
   "name": "python3"
  },
  "language_info": {
   "codemirror_mode": {
    "name": "ipython",
    "version": 3
   },
   "file_extension": ".py",
   "mimetype": "text/x-python",
   "name": "python",
   "nbconvert_exporter": "python",
   "pygments_lexer": "ipython3",
   "version": "3.13.7"
  }
 },
 "nbformat": 4,
 "nbformat_minor": 5
}
